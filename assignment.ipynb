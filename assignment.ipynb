{
 "cells": [
  {
   "cell_type": "code",
   "execution_count": 6,
   "id": "4f2cfa99",
   "metadata": {},
   "outputs": [],
   "source": [
    "import requests\n",
    "from bs4 import BeautifulSoup\n",
    "\n",
    "def get_survey_numbers(District, Mandal, Village):\n",
    "    url = \"https://dharani.telangana.gov.in/knowLandStatus\"\n",
    "\n",
    "    # Prepare the payload data\n",
    "    payload = {\n",
    "        'District': District,\n",
    "        'Mandal': Mandal,\n",
    "        'Village': Village\n",
    "    }\n",
    "\n",
    "    try:\n",
    "        # Send a POST request to the website with the payload\n",
    "        response = requests.post(url, data=payload, timeout=10, headers={'User-Agent': 'Mozilla/5.0'})\n",
    "\n",
    "        # Check response status\n",
    "        if response.status_code != 200:\n",
    "            return f\"Failed to retrieve data. Status Code: {response.status_code}\"\n",
    "\n",
    "        # Parse the HTML content of the response\n",
    "        soup = BeautifulSoup(response.content, 'html.parser')\n",
    "\n",
    "        # Find the element containing the survey numbers\n",
    "        survey_numbers_element = soup.find(\"div\", text=\"Survey No./Sub-Division No.\")\n",
    "\n",
    "        if survey_numbers_element:\n",
    "            # Extract the survey numbers\n",
    "            survey_numbers = survey_numbers_element.find_next(\"div\").text.strip().split('\\n')\n",
    "            return survey_numbers\n",
    "        else:\n",
    "            return \"Survey numbers not found for the specified location.\"\n",
    "    except requests.RequestException as e:\n",
    "        return f\"Failed to retrieve data: {str(e)}\"\n",
    "    except Exception as e:\n",
    "        return f\"An error occurred: {str(e)}\""
   ]
  },
  {
   "cell_type": "code",
   "execution_count": null,
   "id": "288c5b9c",
   "metadata": {},
   "outputs": [],
   "source": []
  }
 ],
 "metadata": {
  "kernelspec": {
   "display_name": "Python 3",
   "language": "python",
   "name": "python3"
  },
  "language_info": {
   "codemirror_mode": {
    "name": "ipython",
    "version": 3
   },
   "file_extension": ".py",
   "mimetype": "text/x-python",
   "name": "python",
   "nbconvert_exporter": "python",
   "pygments_lexer": "ipython3",
   "version": "3.8.8"
  }
 },
 "nbformat": 4,
 "nbformat_minor": 5
}
